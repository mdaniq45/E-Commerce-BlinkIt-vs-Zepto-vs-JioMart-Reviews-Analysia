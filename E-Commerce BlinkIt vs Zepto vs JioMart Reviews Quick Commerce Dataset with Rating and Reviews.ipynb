{
 "cells": [
  {
   "cell_type": "markdown",
   "id": "8411fe52-9837-48df-9d19-4780062ae353",
   "metadata": {},
   "source": [
    "# E-Commerce BlinkIt vs Zepto vs JioMart Reviews\n",
    "\n",
    "\n"
   ]
  },
  {
   "cell_type": "markdown",
   "id": "2c159d9b-7f7d-4195-a439-40f968868823",
   "metadata": {},
   "source": [
    "\n",
    "\n",
    "# Step 1: Load and Inspect the Data\n"
   ]
  },
  {
   "cell_type": "code",
   "execution_count": 1,
   "id": "590bf206-2b22-4901-8d88-0a492e00bcd2",
   "metadata": {},
   "outputs": [],
   "source": [
    "import pandas as pd\n",
    "import re"
   ]
  },
  {
   "cell_type": "code",
   "execution_count": 2,
   "id": "98d6f839-02c7-4d18-a52d-58c5ed32d795",
   "metadata": {},
   "outputs": [],
   "source": [
    "df=pd.read_csv(r\"reviews.csv\")"
   ]
  },
  {
   "cell_type": "code",
   "execution_count": 3,
   "id": "1df67b72-603d-49ea-8271-2e67d5d53dfa",
   "metadata": {},
   "outputs": [
    {
     "data": {
      "text/html": [
       "<div>\n",
       "<style scoped>\n",
       "    .dataframe tbody tr th:only-of-type {\n",
       "        vertical-align: middle;\n",
       "    }\n",
       "\n",
       "    .dataframe tbody tr th {\n",
       "        vertical-align: top;\n",
       "    }\n",
       "\n",
       "    .dataframe thead th {\n",
       "        text-align: right;\n",
       "    }\n",
       "</style>\n",
       "<table border=\"1\" class=\"dataframe\">\n",
       "  <thead>\n",
       "    <tr style=\"text-align: right;\">\n",
       "      <th></th>\n",
       "      <th>rating</th>\n",
       "      <th>date</th>\n",
       "      <th>review</th>\n",
       "      <th>platform</th>\n",
       "    </tr>\n",
       "  </thead>\n",
       "  <tbody>\n",
       "    <tr>\n",
       "      <th>0</th>\n",
       "      <td>2</td>\n",
       "      <td>30 December 2024</td>\n",
       "      <td>I was using it for long time, but have to stop...</td>\n",
       "      <td>blinkit</td>\n",
       "    </tr>\n",
       "    <tr>\n",
       "      <th>1</th>\n",
       "      <td>1</td>\n",
       "      <td>4 November 2024</td>\n",
       "      <td>Loving the fast deliveries and mostly they are...</td>\n",
       "      <td>blinkit</td>\n",
       "    </tr>\n",
       "    <tr>\n",
       "      <th>2</th>\n",
       "      <td>1</td>\n",
       "      <td>31 October 2024</td>\n",
       "      <td>The customer support is very disappointing. I ...</td>\n",
       "      <td>blinkit</td>\n",
       "    </tr>\n",
       "    <tr>\n",
       "      <th>3</th>\n",
       "      <td>5</td>\n",
       "      <td>29 August 2024</td>\n",
       "      <td>I've been using Blinkit for a while now, and i...</td>\n",
       "      <td>blinkit</td>\n",
       "    </tr>\n",
       "    <tr>\n",
       "      <th>4</th>\n",
       "      <td>2</td>\n",
       "      <td>31 December 2024</td>\n",
       "      <td>Blinkit was my go to app and it was rare that ...</td>\n",
       "      <td>blinkit</td>\n",
       "    </tr>\n",
       "    <tr>\n",
       "      <th>...</th>\n",
       "      <td>...</td>\n",
       "      <td>...</td>\n",
       "      <td>...</td>\n",
       "      <td>...</td>\n",
       "    </tr>\n",
       "    <tr>\n",
       "      <th>4615</th>\n",
       "      <td>1</td>\n",
       "      <td>27 November 2024</td>\n",
       "      <td>I have deposited ₹1300 to my zepto wallet to o...</td>\n",
       "      <td>zepto</td>\n",
       "    </tr>\n",
       "    <tr>\n",
       "      <th>4616</th>\n",
       "      <td>4</td>\n",
       "      <td>5 December 2024</td>\n",
       "      <td>Prices r competitive for certain items. Not fo...</td>\n",
       "      <td>zepto</td>\n",
       "    </tr>\n",
       "    <tr>\n",
       "      <th>4617</th>\n",
       "      <td>1</td>\n",
       "      <td>13 November 2024</td>\n",
       "      <td>Worst delivery ever. They delivered a broken p...</td>\n",
       "      <td>zepto</td>\n",
       "    </tr>\n",
       "    <tr>\n",
       "      <th>4618</th>\n",
       "      <td>5</td>\n",
       "      <td>17 November 2024</td>\n",
       "      <td>I had a great experience with zepto, the quali...</td>\n",
       "      <td>zepto</td>\n",
       "    </tr>\n",
       "    <tr>\n",
       "      <th>4619</th>\n",
       "      <td>1</td>\n",
       "      <td>22 October 2024</td>\n",
       "      <td>The worst possible delivery app ever, will not...</td>\n",
       "      <td>zepto</td>\n",
       "    </tr>\n",
       "  </tbody>\n",
       "</table>\n",
       "<p>4620 rows × 4 columns</p>\n",
       "</div>"
      ],
      "text/plain": [
       "      rating              date  \\\n",
       "0          2  30 December 2024   \n",
       "1          1   4 November 2024   \n",
       "2          1   31 October 2024   \n",
       "3          5    29 August 2024   \n",
       "4          2  31 December 2024   \n",
       "...      ...               ...   \n",
       "4615       1  27 November 2024   \n",
       "4616       4   5 December 2024   \n",
       "4617       1  13 November 2024   \n",
       "4618       5  17 November 2024   \n",
       "4619       1   22 October 2024   \n",
       "\n",
       "                                                 review platform  \n",
       "0     I was using it for long time, but have to stop...  blinkit  \n",
       "1     Loving the fast deliveries and mostly they are...  blinkit  \n",
       "2     The customer support is very disappointing. I ...  blinkit  \n",
       "3     I've been using Blinkit for a while now, and i...  blinkit  \n",
       "4     Blinkit was my go to app and it was rare that ...  blinkit  \n",
       "...                                                 ...      ...  \n",
       "4615  I have deposited ₹1300 to my zepto wallet to o...    zepto  \n",
       "4616  Prices r competitive for certain items. Not fo...    zepto  \n",
       "4617  Worst delivery ever. They delivered a broken p...    zepto  \n",
       "4618  I had a great experience with zepto, the quali...    zepto  \n",
       "4619  The worst possible delivery app ever, will not...    zepto  \n",
       "\n",
       "[4620 rows x 4 columns]"
      ]
     },
     "execution_count": 3,
     "metadata": {},
     "output_type": "execute_result"
    }
   ],
   "source": [
    "df"
   ]
  },
  {
   "cell_type": "code",
   "execution_count": 4,
   "id": "f855a4ac-9da3-45a2-ba76-971ebd51cfcd",
   "metadata": {},
   "outputs": [
    {
     "name": "stdout",
     "output_type": "stream",
     "text": [
      "dataset shaper: (4620, 4)\n"
     ]
    }
   ],
   "source": [
    "print(\"dataset shaper:\", df.shape)"
   ]
  },
  {
   "cell_type": "code",
   "execution_count": 5,
   "id": "ba9cad32-3c3a-49fd-a2eb-42c668773b3b",
   "metadata": {},
   "outputs": [
    {
     "name": "stdout",
     "output_type": "stream",
     "text": [
      "colimns: Index(['rating', 'date', 'review', 'platform'], dtype='object')\n"
     ]
    }
   ],
   "source": [
    "print(\"colimns:\", df.columns)"
   ]
  },
  {
   "cell_type": "code",
   "execution_count": 6,
   "id": "3c0795c0-97db-45e2-9050-e835d076f2ac",
   "metadata": {},
   "outputs": [
    {
     "name": "stdout",
     "output_type": "stream",
     "text": [
      "head    rating              date  \\\n",
      "0       2  30 December 2024   \n",
      "1       1   4 November 2024   \n",
      "2       1   31 October 2024   \n",
      "3       5    29 August 2024   \n",
      "4       2  31 December 2024   \n",
      "\n",
      "                                              review platform  \n",
      "0  I was using it for long time, but have to stop...  blinkit  \n",
      "1  Loving the fast deliveries and mostly they are...  blinkit  \n",
      "2  The customer support is very disappointing. I ...  blinkit  \n",
      "3  I've been using Blinkit for a while now, and i...  blinkit  \n",
      "4  Blinkit was my go to app and it was rare that ...  blinkit  \n"
     ]
    }
   ],
   "source": [
    "print(\"head\",df.head())"
   ]
  },
  {
   "cell_type": "markdown",
   "id": "bf24d5cf-f1ab-4f8d-9bc3-a47217d717ea",
   "metadata": {},
   "source": [
    "# Step 2: Preprocessing"
   ]
  },
  {
   "cell_type": "code",
   "execution_count": 7,
   "id": "8220ee38-2bc8-47ab-8f08-55f50717e687",
   "metadata": {},
   "outputs": [],
   "source": [
    "import nltk\n",
    "from nltk.corpus import stopwords\n",
    "from nltk.stem import WordNetLemmatizer\n"
   ]
  },
  {
   "cell_type": "code",
   "execution_count": 8,
   "id": "a70f2755-897b-42c7-9804-e6c1f004dc3d",
   "metadata": {},
   "outputs": [
    {
     "name": "stderr",
     "output_type": "stream",
     "text": [
      "[nltk_data] Downloading package stopwords to C:\\Users\\hi/nltk_data...\n",
      "[nltk_data]   Package stopwords is already up-to-date!\n",
      "[nltk_data] Downloading package wordnet to C:\\Users\\hi/nltk_data...\n",
      "[nltk_data]   Package wordnet is already up-to-date!\n",
      "[nltk_data] Downloading package punkt to C:\\Users\\hi/nltk_data...\n",
      "[nltk_data]   Package punkt is already up-to-date!\n"
     ]
    },
    {
     "data": {
      "text/plain": [
       "True"
      ]
     },
     "execution_count": 8,
     "metadata": {},
     "output_type": "execute_result"
    }
   ],
   "source": [
    "nltk.download(\"stopwords\")\n",
    "nltk.download(\"wordnet\")\n",
    "nltk.download(\"punkt\")"
   ]
  },
  {
   "cell_type": "code",
   "execution_count": 9,
   "id": "f0ad2db8-1157-4f47-933a-91d191aebef5",
   "metadata": {},
   "outputs": [],
   "source": [
    "#initilized lemmatizer and stopwords\n",
    "lemmatizer=WordNetLemmatizer()\n",
    "stop_words=set(stopwords.words(\"english\"))"
   ]
  },
  {
   "cell_type": "code",
   "execution_count": 10,
   "id": "729a8089-18e1-4413-bb3c-dd8c5bd9f01a",
   "metadata": {},
   "outputs": [
    {
     "data": {
      "text/plain": [
       "0       using long time stop using recently got used i...\n",
       "1       loving fast delivery mostly great quick delive...\n",
       "2       customer support disappointing recently bought...\n",
       "3       using blinkit become go app grocery shopping a...\n",
       "4       blinkit go app rare disappointed today disappo...\n",
       "                              ...                        \n",
       "4615    deposited zepto wallet order watch depositing ...\n",
       "4616    price r competitive certain item packing good ...\n",
       "4617    worst delivery ever delivered broken product s...\n",
       "4618    great experience zepto quality level faster de...\n",
       "4619    worst possible delivery app ever let cancel or...\n",
       "Name: cleaned_review, Length: 4620, dtype: object"
      ]
     },
     "execution_count": 10,
     "metadata": {},
     "output_type": "execute_result"
    }
   ],
   "source": [
    "#define the function for cleaning the text\n",
    "def prepprocess_text(text):\n",
    "    #remove the non alphabetic text char\n",
    "    text=re.sub(r'[^a-zA-Z]', ' ', str(text))\n",
    "    #convert to lower case\n",
    "    text=text.lower()\n",
    "    #tokinized the words\n",
    "    words=nltk.word_tokenize(text)\n",
    "    #remove stopwords and lemmatizer\n",
    "    words = [lemmatizer.lemmatize(word) for word in words if word not in stop_words]\n",
    "    return ' '.join(words)\n",
    "    #apply preeprocessing to the review columns\n",
    "\n",
    "df['cleaned_review'] = df['review'].apply(prepprocess_text)\n",
    "df['cleaned_review']"
   ]
  },
  {
   "cell_type": "markdown",
   "id": "1fc60f9b-5899-41bb-8ba1-fa838ba6f031",
   "metadata": {},
   "source": [
    "# Step 3: Exploratory Data Analysis (EDA)"
   ]
  },
  {
   "cell_type": "code",
   "execution_count": 11,
   "id": "2132e6c4-0702-4301-a366-d352dc263304",
   "metadata": {},
   "outputs": [
    {
     "name": "stdout",
     "output_type": "stream",
     "text": [
      "Requirement already satisfied: pandas in c:\\users\\hi\\anaconda3\\lib\\site-packages (2.2.3)\n",
      "Requirement already satisfied: nltk in c:\\users\\hi\\anaconda3\\lib\\site-packages (3.9.1)\n",
      "Requirement already satisfied: wordcloud in c:\\users\\hi\\anaconda3\\lib\\site-packages (1.9.4)\n",
      "Requirement already satisfied: matplotlib in c:\\users\\hi\\anaconda3\\lib\\site-packages (3.10.0)\n",
      "Requirement already satisfied: numpy>=1.26.0 in c:\\users\\hi\\anaconda3\\lib\\site-packages (from pandas) (1.26.4)\n",
      "Requirement already satisfied: python-dateutil>=2.8.2 in c:\\users\\hi\\anaconda3\\lib\\site-packages (from pandas) (2.9.0.post0)\n",
      "Requirement already satisfied: pytz>=2020.1 in c:\\users\\hi\\anaconda3\\lib\\site-packages (from pandas) (2024.1)\n",
      "Requirement already satisfied: tzdata>=2022.7 in c:\\users\\hi\\anaconda3\\lib\\site-packages (from pandas) (2023.3)\n",
      "Requirement already satisfied: click in c:\\users\\hi\\anaconda3\\lib\\site-packages (from nltk) (8.1.7)\n",
      "Requirement already satisfied: joblib in c:\\users\\hi\\anaconda3\\lib\\site-packages (from nltk) (1.4.2)\n",
      "Requirement already satisfied: regex>=2021.8.3 in c:\\users\\hi\\anaconda3\\lib\\site-packages (from nltk) (2024.9.11)\n",
      "Requirement already satisfied: tqdm in c:\\users\\hi\\anaconda3\\lib\\site-packages (from nltk) (4.66.5)\n",
      "Requirement already satisfied: pillow in c:\\users\\hi\\anaconda3\\lib\\site-packages (from wordcloud) (9.5.0)\n",
      "Requirement already satisfied: contourpy>=1.0.1 in c:\\users\\hi\\anaconda3\\lib\\site-packages (from matplotlib) (1.2.0)\n",
      "Requirement already satisfied: cycler>=0.10 in c:\\users\\hi\\anaconda3\\lib\\site-packages (from matplotlib) (0.11.0)\n",
      "Requirement already satisfied: fonttools>=4.22.0 in c:\\users\\hi\\anaconda3\\lib\\site-packages (from matplotlib) (4.51.0)\n",
      "Requirement already satisfied: kiwisolver>=1.3.1 in c:\\users\\hi\\anaconda3\\lib\\site-packages (from matplotlib) (1.4.4)\n",
      "Requirement already satisfied: packaging>=20.0 in c:\\users\\hi\\anaconda3\\lib\\site-packages (from matplotlib) (24.1)\n",
      "Requirement already satisfied: pyparsing>=2.3.1 in c:\\users\\hi\\anaconda3\\lib\\site-packages (from matplotlib) (3.1.2)\n",
      "Requirement already satisfied: six>=1.5 in c:\\users\\hi\\anaconda3\\lib\\site-packages (from python-dateutil>=2.8.2->pandas) (1.16.0)\n",
      "Requirement already satisfied: colorama in c:\\users\\hi\\anaconda3\\lib\\site-packages (from click->nltk) (0.4.6)\n"
     ]
    }
   ],
   "source": [
    "#!pip install --upgrade pandas nltk wordcloud matplotlib\n"
   ]
  },
  {
   "cell_type": "code",
   "execution_count": null,
   "id": "80766e42-2ff2-4713-ba6a-1e1d684cd3d1",
   "metadata": {},
   "outputs": [],
   "source": [
    "from wordcloud import WordCloud\n",
    "import matplotlib.pyplot as plt\n",
    "\n",
    "# Ensure that the DataFrame and column exist\n",
    "if 'cleaned_review' in df.columns:\n",
    "    # Join all cleaned reviews into one string\n",
    "    all_reviews = ' '.join(df['cleaned_review'].dropna())\n",
    "\n",
    "    # Check if all_reviews is not empty\n",
    "    if all_reviews:\n",
    "        # Generate the word cloud\n",
    "        wordcloud = WordCloud(width=800, height=400, background_color='white').generate(all_reviews)\n",
    "\n",
    "        # Plot the word cloud\n",
    "        plt.figure(figsize=(10, 5))\n",
    "        plt.imshow(wordcloud, interpolation='bilinear')\n",
    "        plt.axis('off')  # Hide axes\n",
    "        plt.show()\n",
    "    else:\n",
    "        print(\"No reviews to generate word cloud.\")\n",
    "else:\n",
    "    print(\"Column 'cleaned_review' not found in DataFrame.\")\n"
   ]
  },
  {
   "cell_type": "code",
   "execution_count": null,
   "id": "7d647ef9-67dd-426c-a34a-d5c3d87d65b2",
   "metadata": {},
   "outputs": [],
   "source": []
  },
  {
   "cell_type": "markdown",
   "id": "8976d392-2f1b-4d6c-87c8-339eb56555ac",
   "metadata": {},
   "source": [
    "# Step 4: Sentiment Analysis\n",
    "\n"
   ]
  },
  {
   "cell_type": "code",
   "execution_count": null,
   "id": "6bede8c5-02e4-4926-ad53-ecbeb0676fba",
   "metadata": {},
   "outputs": [],
   "source": [
    "from textblob import  TextBlob\n",
    "#definr the function to class sentiment \n",
    "def classify_sentiment(text):\n",
    "    polarity=TextBlob(text).sentiment.polarity\n",
    "    if ploarity>0:\n",
    "        return 'positive'\n",
    "    elif ploarity < 0:\n",
    "        return \"Negative\"\n",
    "    else:\n",
    "        return \"Neutral\"\n",
    "\n",
    "#apply sentiment analysis\n",
    "df['sentiment']=df['cleaned_reviews'].apply(classify_sentiment)\n"
   ]
  },
  {
   "cell_type": "code",
   "execution_count": null,
   "id": "09190b7d-0c22-453a-b2b3-4abfb6676343",
   "metadata": {},
   "outputs": [],
   "source": []
  }
 ],
 "metadata": {
  "kernelspec": {
   "display_name": "Python 3 (ipykernel)",
   "language": "python",
   "name": "python3"
  },
  "language_info": {
   "codemirror_mode": {
    "name": "ipython",
    "version": 3
   },
   "file_extension": ".py",
   "mimetype": "text/x-python",
   "name": "python",
   "nbconvert_exporter": "python",
   "pygments_lexer": "ipython3",
   "version": "3.12.2"
  }
 },
 "nbformat": 4,
 "nbformat_minor": 5
}
